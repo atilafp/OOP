{
 "cells": [
  {
   "cell_type": "code",
   "execution_count": 1,
   "id": "ee506988",
   "metadata": {},
   "outputs": [],
   "source": [
    "import pandas as pd\n",
    "import numpy as np\n",
    "\n",
    "class Dataset:\n",
    "    def __init__(self, df):\n",
    "        self.df = df\n",
    "        self.features = df.iloc[:,0:-1]\n",
    "        self.target = df.iloc[:,-1]\n",
    "        self.len = len(df)\n",
    "\n",
    "    def treino_teste(self, fração=float):\n",
    "        if fração < 1 and fração > 0:\n",
    "            n_treino = int(fração * self.len)\n",
    "            x_treino = self.features.iloc[0:n_treino,:] \n",
    "            x_teste = self.features.iloc[n_treino:,:]\n",
    "            y_treino = self.target.iloc[0:n_treino]\n",
    "            y_teste = self.target.iloc[n_treino:]\n",
    "\n",
    "            return x_treino, x_teste, y_treino, y_teste\n",
    "        else:\n",
    "            raise ValueError('O tamanho do conjunto de treino deve ser uma fração entre 0 e 100% do dataset')\n",
    "\n",
    "class RegressãoLinear:\n",
    "    def __init__(self, modelo):\n",
    "        self.modelo = modelo     \n",
    "\n",
    "    def regressao_linear(self, X, y):\n",
    "        if self.modelo == 'linalg':\n",
    "            X = np.array(X)\n",
    "            y = np.array(y)\n",
    "\n",
    "            coluna = np.ones((X.shape[0], 1)) #adicionando coluna para calcular o beta_0\n",
    "            X = np.hstack((X, coluna))\n",
    "\n",
    "            XtX = np.dot(X.T, X)\n",
    "            Xty = np.dot(X.T, y)\n",
    "\n",
    "            XtX_inv = np.linalg.inv(XtX)\n",
    "\n",
    "            betas = list(np.dot(XtX_inv, Xty))\n",
    "\n",
    "            return list(betas)\n",
    "        \n",
    "\n",
    "        elif self.modelo == 'stats':\n",
    "            if X.shape[1] > 1:\n",
    "                raise NotImplementedError('O método não está disponível para modelos multivariados')\n",
    "            \n",
    "            else:\n",
    "                x_medio = np.mean(X)\n",
    "                y_medio = np.mean(y)\n",
    "\n",
    "                aux_1 = np.sum((X - x_medio) * (y - y_medio))\n",
    "                aux_2 = np.sum((X - x_medio) ** 2)\n",
    "                beta = aux_1 / aux_2\n",
    "\n",
    "                intercepto = y_medio - beta * x_medio\n",
    "\n",
    "                return [beta, intercepto]\n",
    "\n",
    "\n",
    "    def predição(self, X, betas=[]):\n",
    "        if self.modelo == 'linalg':\n",
    "            betas_ = betas[0:-1]\n",
    "            X_array = np.array(X)\n",
    "            betas_array = np.array(betas_)\n",
    "            predições = np.dot(X_array, betas_array)+betas[-1] #Adicionando o bias (beta_0)\n",
    "            return list(predições)\n",
    "\n",
    "        elif self.modelo == 'stats':\n",
    "            X_array = np.array(X)\n",
    "            beta = float(betas[0])\n",
    "            intercepto = float(betas[1]) \n",
    "            predições = X_array * beta + intercepto \n",
    "            return list(predições)\n",
    "    \n",
    "\n",
    "class Erro:\n",
    "    def calcula_erro(self, y_real_i, y_pred_i):\n",
    "        return abs(y_real_i - y_pred_i)\n",
    "\n",
    "\n",
    "class Performance(Erro):\n",
    "    #A classe Performance herda o método de calculo do erro porque seria necessário calcular esse parametro em diferentes métodos\n",
    "    #Optei por utilizar herança pensando que se no futuro existir uma demanda que altere a forma com o erro é calculado,\n",
    "    #bastaria alterar a classe erro\n",
    "    #No fim, o intuito foi implementar o conceito de herança! Hahah!\n",
    "    def __init__(self, metrica):\n",
    "        self.metrica = metrica\n",
    "\n",
    "    def performance(self, y_real, y_pred):\n",
    "        if self.metrica == 'mae':\n",
    "            metrica = 0\n",
    "            for i in range(len(y_real)):\n",
    "                erro = self.calcula_erro(y_real[i], y_pred[i]) \n",
    "                metrica = metrica + erro\n",
    "\n",
    "            return metrica/(i+1)\n",
    "\n",
    "        if self.metrica == 'mse':\n",
    "            metrica = 0\n",
    "            for i in range(len(y_real)):\n",
    "                erro = self.calcula_erro(y_real[i], y_pred[i])**2\n",
    "                metrica = metrica + erro\n",
    "            \n",
    "            return metrica/(i+1)\n",
    "            \n",
    "\n",
    "        if self.metrica == 'max':\n",
    "            erro = 0\n",
    "            for i in range(len(y_real)):\n",
    "                erro_i = self.calcula_erro(y_real[i], y_pred[i])\n",
    "                if erro_i > erro:\n",
    "                    erro = erro_i\n",
    "            \n",
    "            return erro"
   ]
  },
  {
   "cell_type": "code",
   "execution_count": 2,
   "id": "1ba32019",
   "metadata": {},
   "outputs": [
    {
     "data": {
      "text/html": [
       "<div>\n",
       "<style scoped>\n",
       "    .dataframe tbody tr th:only-of-type {\n",
       "        vertical-align: middle;\n",
       "    }\n",
       "\n",
       "    .dataframe tbody tr th {\n",
       "        vertical-align: top;\n",
       "    }\n",
       "\n",
       "    .dataframe thead th {\n",
       "        text-align: right;\n",
       "    }\n",
       "</style>\n",
       "<table border=\"1\" class=\"dataframe\">\n",
       "  <thead>\n",
       "    <tr style=\"text-align: right;\">\n",
       "      <th></th>\n",
       "      <th>feature_0</th>\n",
       "      <th>feature_1</th>\n",
       "      <th>feature_2</th>\n",
       "      <th>feature_3</th>\n",
       "      <th>feature_4</th>\n",
       "      <th>feature_5</th>\n",
       "      <th>feature_6</th>\n",
       "      <th>feature_7</th>\n",
       "      <th>feature_8</th>\n",
       "      <th>feature_9</th>\n",
       "      <th>target</th>\n",
       "    </tr>\n",
       "  </thead>\n",
       "  <tbody>\n",
       "    <tr>\n",
       "      <th>0</th>\n",
       "      <td>0.604453</td>\n",
       "      <td>-1.073702</td>\n",
       "      <td>-3.249764</td>\n",
       "      <td>-0.723497</td>\n",
       "      <td>-0.167870</td>\n",
       "      <td>1.921961</td>\n",
       "      <td>-0.112531</td>\n",
       "      <td>-0.150933</td>\n",
       "      <td>1.366808</td>\n",
       "      <td>-0.537862</td>\n",
       "      <td>924.004900</td>\n",
       "    </tr>\n",
       "    <tr>\n",
       "      <th>1</th>\n",
       "      <td>-1.111851</td>\n",
       "      <td>-2.281662</td>\n",
       "      <td>0.656806</td>\n",
       "      <td>-0.890985</td>\n",
       "      <td>-0.519026</td>\n",
       "      <td>-0.103128</td>\n",
       "      <td>1.097423</td>\n",
       "      <td>-0.390304</td>\n",
       "      <td>0.006925</td>\n",
       "      <td>-0.923429</td>\n",
       "      <td>921.414119</td>\n",
       "    </tr>\n",
       "    <tr>\n",
       "      <th>2</th>\n",
       "      <td>-0.164515</td>\n",
       "      <td>-1.474779</td>\n",
       "      <td>0.756642</td>\n",
       "      <td>-0.705804</td>\n",
       "      <td>-1.056270</td>\n",
       "      <td>0.773400</td>\n",
       "      <td>0.491814</td>\n",
       "      <td>-0.857172</td>\n",
       "      <td>0.959496</td>\n",
       "      <td>-0.365055</td>\n",
       "      <td>1060.903199</td>\n",
       "    </tr>\n",
       "    <tr>\n",
       "      <th>3</th>\n",
       "      <td>0.318549</td>\n",
       "      <td>2.377224</td>\n",
       "      <td>-0.968608</td>\n",
       "      <td>0.102883</td>\n",
       "      <td>0.085826</td>\n",
       "      <td>-1.342091</td>\n",
       "      <td>-0.063032</td>\n",
       "      <td>0.139537</td>\n",
       "      <td>-0.336186</td>\n",
       "      <td>0.191080</td>\n",
       "      <td>955.612444</td>\n",
       "    </tr>\n",
       "    <tr>\n",
       "      <th>4</th>\n",
       "      <td>0.822698</td>\n",
       "      <td>0.085764</td>\n",
       "      <td>0.010054</td>\n",
       "      <td>1.197242</td>\n",
       "      <td>0.177811</td>\n",
       "      <td>1.959245</td>\n",
       "      <td>0.457162</td>\n",
       "      <td>-0.264029</td>\n",
       "      <td>0.180327</td>\n",
       "      <td>1.275180</td>\n",
       "      <td>1350.416588</td>\n",
       "    </tr>\n",
       "    <tr>\n",
       "      <th>...</th>\n",
       "      <td>...</td>\n",
       "      <td>...</td>\n",
       "      <td>...</td>\n",
       "      <td>...</td>\n",
       "      <td>...</td>\n",
       "      <td>...</td>\n",
       "      <td>...</td>\n",
       "      <td>...</td>\n",
       "      <td>...</td>\n",
       "      <td>...</td>\n",
       "      <td>...</td>\n",
       "    </tr>\n",
       "    <tr>\n",
       "      <th>9995</th>\n",
       "      <td>-0.606315</td>\n",
       "      <td>-1.714683</td>\n",
       "      <td>0.699367</td>\n",
       "      <td>-0.319087</td>\n",
       "      <td>-1.113487</td>\n",
       "      <td>-0.144619</td>\n",
       "      <td>-0.982486</td>\n",
       "      <td>-0.241412</td>\n",
       "      <td>0.553021</td>\n",
       "      <td>1.245979</td>\n",
       "      <td>935.672663</td>\n",
       "    </tr>\n",
       "    <tr>\n",
       "      <th>9996</th>\n",
       "      <td>-0.005730</td>\n",
       "      <td>-0.430793</td>\n",
       "      <td>-0.127216</td>\n",
       "      <td>0.326588</td>\n",
       "      <td>-1.188292</td>\n",
       "      <td>-0.284406</td>\n",
       "      <td>0.694813</td>\n",
       "      <td>-0.161663</td>\n",
       "      <td>-0.149463</td>\n",
       "      <td>0.365271</td>\n",
       "      <td>1048.620507</td>\n",
       "    </tr>\n",
       "    <tr>\n",
       "      <th>9997</th>\n",
       "      <td>0.318461</td>\n",
       "      <td>0.822413</td>\n",
       "      <td>-0.653701</td>\n",
       "      <td>-0.736001</td>\n",
       "      <td>-0.290235</td>\n",
       "      <td>-0.391913</td>\n",
       "      <td>-0.260030</td>\n",
       "      <td>0.961040</td>\n",
       "      <td>-0.709339</td>\n",
       "      <td>2.439255</td>\n",
       "      <td>1086.299472</td>\n",
       "    </tr>\n",
       "    <tr>\n",
       "      <th>9998</th>\n",
       "      <td>-0.255006</td>\n",
       "      <td>-0.807450</td>\n",
       "      <td>0.184368</td>\n",
       "      <td>0.164772</td>\n",
       "      <td>0.024477</td>\n",
       "      <td>-1.480830</td>\n",
       "      <td>0.960307</td>\n",
       "      <td>-0.005040</td>\n",
       "      <td>-0.141197</td>\n",
       "      <td>-0.149617</td>\n",
       "      <td>951.941077</td>\n",
       "    </tr>\n",
       "    <tr>\n",
       "      <th>9999</th>\n",
       "      <td>-2.261944</td>\n",
       "      <td>-1.852987</td>\n",
       "      <td>-0.828907</td>\n",
       "      <td>-0.303342</td>\n",
       "      <td>0.895313</td>\n",
       "      <td>-1.778063</td>\n",
       "      <td>0.661541</td>\n",
       "      <td>-0.367618</td>\n",
       "      <td>0.186822</td>\n",
       "      <td>0.149550</td>\n",
       "      <td>738.096686</td>\n",
       "    </tr>\n",
       "  </tbody>\n",
       "</table>\n",
       "<p>10000 rows × 11 columns</p>\n",
       "</div>"
      ],
      "text/plain": [
       "      feature_0  feature_1  feature_2  feature_3  feature_4  feature_5  \\\n",
       "0      0.604453  -1.073702  -3.249764  -0.723497  -0.167870   1.921961   \n",
       "1     -1.111851  -2.281662   0.656806  -0.890985  -0.519026  -0.103128   \n",
       "2     -0.164515  -1.474779   0.756642  -0.705804  -1.056270   0.773400   \n",
       "3      0.318549   2.377224  -0.968608   0.102883   0.085826  -1.342091   \n",
       "4      0.822698   0.085764   0.010054   1.197242   0.177811   1.959245   \n",
       "...         ...        ...        ...        ...        ...        ...   \n",
       "9995  -0.606315  -1.714683   0.699367  -0.319087  -1.113487  -0.144619   \n",
       "9996  -0.005730  -0.430793  -0.127216   0.326588  -1.188292  -0.284406   \n",
       "9997   0.318461   0.822413  -0.653701  -0.736001  -0.290235  -0.391913   \n",
       "9998  -0.255006  -0.807450   0.184368   0.164772   0.024477  -1.480830   \n",
       "9999  -2.261944  -1.852987  -0.828907  -0.303342   0.895313  -1.778063   \n",
       "\n",
       "      feature_6  feature_7  feature_8  feature_9       target  \n",
       "0     -0.112531  -0.150933   1.366808  -0.537862   924.004900  \n",
       "1      1.097423  -0.390304   0.006925  -0.923429   921.414119  \n",
       "2      0.491814  -0.857172   0.959496  -0.365055  1060.903199  \n",
       "3     -0.063032   0.139537  -0.336186   0.191080   955.612444  \n",
       "4      0.457162  -0.264029   0.180327   1.275180  1350.416588  \n",
       "...         ...        ...        ...        ...          ...  \n",
       "9995  -0.982486  -0.241412   0.553021   1.245979   935.672663  \n",
       "9996   0.694813  -0.161663  -0.149463   0.365271  1048.620507  \n",
       "9997  -0.260030   0.961040  -0.709339   2.439255  1086.299472  \n",
       "9998   0.960307  -0.005040  -0.141197  -0.149617   951.941077  \n",
       "9999   0.661541  -0.367618   0.186822   0.149550   738.096686  \n",
       "\n",
       "[10000 rows x 11 columns]"
      ]
     },
     "execution_count": 2,
     "metadata": {},
     "output_type": "execute_result"
    }
   ],
   "source": [
    "import pandas as pd\n",
    "import numpy as np\n",
    "from sklearn.datasets import make_regression\n",
    "\n",
    "\n",
    "#Criando um dataset sintético usando sklearn datasets\n",
    "n_samples = 10000\n",
    "n_features = 10\n",
    "X, y = make_regression(n_samples=n_samples, n_features=n_features, random_state=42, noise=25)\n",
    "\n",
    "\n",
    "df = pd.DataFrame(data=X, columns=[f'feature_{i}' for i in range(X.shape[1])])\n",
    "df['target'] = y+1000 #Adicionando um bias (beta_0 = 1000)\n",
    "\n",
    "df"
   ]
  },
  {
   "cell_type": "code",
   "execution_count": 3,
   "id": "a5638f02",
   "metadata": {},
   "outputs": [
    {
     "name": "stdout",
     "output_type": "stream",
     "text": [
      "(7000, 10)\n",
      "(3000, 10)\n",
      "(7000,)\n",
      "(3000,)\n"
     ]
    }
   ],
   "source": [
    "dataset = Dataset(df)\n",
    "\n",
    "X_treino, X_teste, y_treino, y_teste = dataset.treino_teste(0.7)\n",
    "print(X_treino.shape)\n",
    "print(X_teste.shape)\n",
    "print(y_treino.shape)\n",
    "print(y_teste.shape)"
   ]
  },
  {
   "cell_type": "code",
   "execution_count": 4,
   "id": "e1c4d779",
   "metadata": {},
   "outputs": [
    {
     "name": "stdout",
     "output_type": "stream",
     "text": [
      "11\n"
     ]
    },
    {
     "data": {
      "text/plain": [
       "[78.27236282685864,\n",
       " 19.301191698796252,\n",
       " 48.27474047115103,\n",
       " 25.227987039400183,\n",
       " 2.2105178520091844,\n",
       " 55.89637124190195,\n",
       " 82.71094271548701,\n",
       " 9.27929643655933,\n",
       " 28.97564933553214,\n",
       " 68.24944229931386,\n",
       " 1000.2087335385255]"
      ]
     },
     "execution_count": 4,
     "metadata": {},
     "output_type": "execute_result"
    }
   ],
   "source": [
    "Regressão = RegressãoLinear('linalg')\n",
    "\n",
    "betas_reg_linalg = Regressão.regressao_linear(X_treino, y_treino)\n",
    "print(len(betas_reg_linalg))\n",
    "betas_reg_linalg"
   ]
  },
  {
   "cell_type": "code",
   "execution_count": 5,
   "id": "38628d00",
   "metadata": {},
   "outputs": [],
   "source": [
    "predictions = Regressão.predição(X_teste, betas_reg_linalg)"
   ]
  },
  {
   "cell_type": "code",
   "execution_count": 6,
   "id": "30138b04",
   "metadata": {},
   "outputs": [
    {
     "data": {
      "text/plain": [
       "Text(0, 0.5, 'Valores Reais')"
      ]
     },
     "execution_count": 6,
     "metadata": {},
     "output_type": "execute_result"
    },
    {
     "data": {
      "image/png": "[encoded data removed]",
      "text/plain": [
       "<Figure size 640x480 with 1 Axes>"
      ]
     },
     "metadata": {},
     "output_type": "display_data"
    }
   ],
   "source": [
    "import matplotlib.pyplot as plt\n",
    "\n",
    "x = np.linspace(400,1600,200)\n",
    "plt.scatter(predictions, y_teste)\n",
    "plt.plot(x,x, c='red', lw=2.5, ls='--')\n",
    "plt.xlabel('Valores Preditos')\n",
    "plt.ylabel('Valores Reais')"
   ]
  },
  {
   "cell_type": "code",
   "execution_count": 7,
   "id": "67c61290",
   "metadata": {},
   "outputs": [
    {
     "data": {
      "text/html": [
       "<div>\n",
       "<style scoped>\n",
       "    .dataframe tbody tr th:only-of-type {\n",
       "        vertical-align: middle;\n",
       "    }\n",
       "\n",
       "    .dataframe tbody tr th {\n",
       "        vertical-align: top;\n",
       "    }\n",
       "\n",
       "    .dataframe thead th {\n",
       "        text-align: right;\n",
       "    }\n",
       "</style>\n",
       "<table border=\"1\" class=\"dataframe\">\n",
       "  <thead>\n",
       "    <tr style=\"text-align: right;\">\n",
       "      <th></th>\n",
       "      <th>feature_0</th>\n",
       "      <th>target</th>\n",
       "    </tr>\n",
       "  </thead>\n",
       "  <tbody>\n",
       "    <tr>\n",
       "      <th>0</th>\n",
       "      <td>-71.657349</td>\n",
       "      <td>-12.245961</td>\n",
       "    </tr>\n",
       "    <tr>\n",
       "      <th>1</th>\n",
       "      <td>-84.144951</td>\n",
       "      <td>-29.081733</td>\n",
       "    </tr>\n",
       "    <tr>\n",
       "      <th>2</th>\n",
       "      <td>-27.667177</td>\n",
       "      <td>-5.693936</td>\n",
       "    </tr>\n",
       "    <tr>\n",
       "      <th>3</th>\n",
       "      <td>-1.901621</td>\n",
       "      <td>-5.895337</td>\n",
       "    </tr>\n",
       "    <tr>\n",
       "      <th>4</th>\n",
       "      <td>-14.451867</td>\n",
       "      <td>3.313337</td>\n",
       "    </tr>\n",
       "    <tr>\n",
       "      <th>...</th>\n",
       "      <td>...</td>\n",
       "      <td>...</td>\n",
       "    </tr>\n",
       "    <tr>\n",
       "      <th>9995</th>\n",
       "      <td>125.534978</td>\n",
       "      <td>39.900282</td>\n",
       "    </tr>\n",
       "    <tr>\n",
       "      <th>9996</th>\n",
       "      <td>-122.071243</td>\n",
       "      <td>-29.954570</td>\n",
       "    </tr>\n",
       "    <tr>\n",
       "      <th>9997</th>\n",
       "      <td>104.839989</td>\n",
       "      <td>33.197201</td>\n",
       "    </tr>\n",
       "    <tr>\n",
       "      <th>9998</th>\n",
       "      <td>-112.863451</td>\n",
       "      <td>-38.049854</td>\n",
       "    </tr>\n",
       "    <tr>\n",
       "      <th>9999</th>\n",
       "      <td>-204.994128</td>\n",
       "      <td>-63.507084</td>\n",
       "    </tr>\n",
       "  </tbody>\n",
       "</table>\n",
       "<p>10000 rows × 2 columns</p>\n",
       "</div>"
      ],
      "text/plain": [
       "       feature_0     target\n",
       "0     -71.657349 -12.245961\n",
       "1     -84.144951 -29.081733\n",
       "2     -27.667177  -5.693936\n",
       "3      -1.901621  -5.895337\n",
       "4     -14.451867   3.313337\n",
       "...          ...        ...\n",
       "9995  125.534978  39.900282\n",
       "9996 -122.071243 -29.954570\n",
       "9997  104.839989  33.197201\n",
       "9998 -112.863451 -38.049854\n",
       "9999 -204.994128 -63.507084\n",
       "\n",
       "[10000 rows x 2 columns]"
      ]
     },
     "execution_count": 7,
     "metadata": {},
     "output_type": "execute_result"
    }
   ],
   "source": [
    "#Criando um dataset sintético usando sklearn datasets\n",
    "n_samples = 10000\n",
    "n_features = 1\n",
    "X, y = make_regression(n_samples=n_samples, n_features=n_features, random_state=42, noise=5)\n",
    "\n",
    "\n",
    "df = pd.DataFrame(data=X, columns=[f'feature_{i}' for i in range(X.shape[1])])\n",
    "df['feature_0'] = df['feature_0']*100\n",
    "df['target'] = y+5 #Adicionando um bias (beta_0 = 5)\n",
    "\n",
    "df"
   ]
  },
  {
   "cell_type": "code",
   "execution_count": 8,
   "id": "2fdb6730",
   "metadata": {},
   "outputs": [
    {
     "name": "stdout",
     "output_type": "stream",
     "text": [
      "(7000, 1)\n",
      "(3000, 1)\n",
      "(7000, 1)\n",
      "(3000, 1)\n"
     ]
    }
   ],
   "source": [
    "dataset = Dataset(df)\n",
    "\n",
    "X_treino, X_teste, y_treino, y_teste = dataset.treino_teste(0.7)\n",
    "y_treino = np.array(y_treino).reshape(-1, 1)\n",
    "y_teste = np.array(y_teste).reshape(-1, 1)\n",
    "\n",
    "print(X_treino.shape)\n",
    "print(X_teste.shape)\n",
    "print(y_treino.shape)\n",
    "print(y_teste.shape)"
   ]
  },
  {
   "cell_type": "code",
   "execution_count": 9,
   "id": "38f8220a",
   "metadata": {},
   "outputs": [
    {
     "name": "stderr",
     "output_type": "stream",
     "text": [
      "c:\\ProgramData\\Anaconda3\\lib\\site-packages\\numpy\\core\\fromnumeric.py:3438: FutureWarning: In a future version, DataFrame.mean(axis=None) will return a scalar mean over the entire DataFrame. To retain the old behavior, use 'frame.mean(axis=0)' or just 'frame.mean()'\n",
      "  return mean(axis=axis, dtype=dtype, out=out, **kwargs)\n"
     ]
    }
   ],
   "source": [
    "Regressão = RegressãoLinear('stats')\n",
    "\n",
    "betas_reg_stats = Regressão.regressao_linear(X_treino, y_treino)\n",
    "\n",
    "predição_stats = Regressão.predição(X_teste, betas_reg_stats)"
   ]
  },
  {
   "cell_type": "code",
   "execution_count": 10,
   "id": "4dc32acf",
   "metadata": {},
   "outputs": [
    {
     "data": {
      "text/plain": [
       "Text(0, 0.5, 'Valores Reais')"
      ]
     },
     "execution_count": 10,
     "metadata": {},
     "output_type": "execute_result"
    },
    {
     "data": {
      "image/png": "[encoded data removed]",
      "text/plain": [
       "<Figure size 640x480 with 1 Axes>"
      ]
     },
     "metadata": {},
     "output_type": "display_data"
    }
   ],
   "source": [
    "x = np.linspace(-150,150,100)\n",
    "\n",
    "plt.scatter(predição_stats, y_teste)\n",
    "plt.plot(x,x, c='red', lw=2.5, ls='--')\n",
    "plt.xlabel('Valores Preditos')\n",
    "plt.ylabel('Valores Reais')"
   ]
  },
  {
   "cell_type": "code",
   "execution_count": 11,
   "id": "dc1ea8ad",
   "metadata": {},
   "outputs": [],
   "source": [
    "Regressão = RegressãoLinear('linalg')\n",
    "\n",
    "betas_reg_linalg = Regressão.regressao_linear(X_treino, y_treino)\n",
    "\n",
    "predição_linalg = Regressão.predição(X_teste, betas_reg_linalg)"
   ]
  },
  {
   "cell_type": "code",
   "execution_count": 12,
   "id": "fc964856",
   "metadata": {},
   "outputs": [
    {
     "data": {
      "text/plain": [
       "Text(0, 0.5, 'Valores Reais')"
      ]
     },
     "execution_count": 12,
     "metadata": {},
     "output_type": "execute_result"
    },
    {
     "data": {
      "image/png": "[encoded data removed]",
      "text/plain": [
       "<Figure size 640x480 with 1 Axes>"
      ]
     },
     "metadata": {},
     "output_type": "display_data"
    }
   ],
   "source": [
    "x = np.linspace(-150,150,100)\n",
    "\n",
    "plt.scatter(predição_linalg, y_teste)\n",
    "plt.plot(x,x, c='red', lw=2.5, ls='--')\n",
    "plt.xlabel('Valores Preditos')\n",
    "plt.ylabel('Valores Reais')"
   ]
  },
  {
   "cell_type": "code",
   "execution_count": 13,
   "id": "b31b3874",
   "metadata": {},
   "outputs": [
    {
     "data": {
      "text/plain": [
       "Text(0, 0.5, 'Método Stats')"
      ]
     },
     "execution_count": 13,
     "metadata": {},
     "output_type": "execute_result"
    },
    {
     "data": {
      "image/png": "[encoded data removed]",
      "text/plain": [
       "<Figure size 640x480 with 1 Axes>"
      ]
     },
     "metadata": {},
     "output_type": "display_data"
    }
   ],
   "source": [
    "plt.scatter(predição_linalg, predição_stats)\n",
    "plt.plot(x,x, c='red', lw=2.5, ls='--')\n",
    "plt.xlabel('Método Linalg')\n",
    "plt.ylabel('Método Stats')"
   ]
  },
  {
   "cell_type": "code",
   "execution_count": 14,
   "id": "2a8dc790",
   "metadata": {},
   "outputs": [
    {
     "name": "stdout",
     "output_type": "stream",
     "text": [
      "MAE: [4.02]\n",
      "MSE: [25.53]\n",
      "MAX: [18.67209945]\n"
     ]
    }
   ],
   "source": [
    "mae = Performance('mae')\n",
    "model_mae = mae.performance(predição_linalg, y_teste)\n",
    "print(f'MAE: {model_mae.round(decimals=2)}')\n",
    "\n",
    "mse = Performance('mse')\n",
    "model_mse = mse.performance(predição_linalg, y_teste)\n",
    "print(f'MSE: {model_mse.round(decimals=2)}')\n",
    "\n",
    "max = Performance('max')\n",
    "model_max = max.performance(predição_linalg, y_teste)\n",
    "print(f'MAX: {model_max}')"
   ]
  },
  {
   "cell_type": "code",
   "execution_count": null,
   "id": "d3e4c449",
   "metadata": {},
   "outputs": [],
   "source": []
  }
 ],
 "metadata": {
  "kernelspec": {
   "display_name": "Python 3 (ipykernel)",
   "language": "python",
   "name": "python3"
  },
  "language_info": {
   "codemirror_mode": {
    "name": "ipython",
    "version": 3
   },
   "file_extension": ".py",
   "mimetype": "text/x-python",
   "name": "python",
   "nbconvert_exporter": "python",
   "pygments_lexer": "ipython3",
   "version": "3.9.13"
  }
 },
 "nbformat": 4,
 "nbformat_minor": 5
}
